{
 "cells": [
  {
   "cell_type": "code",
   "execution_count": null,
   "id": "2550d732",
   "metadata": {},
   "outputs": [],
   "source": [
    "# --- Installation Check --- #\n",
    "try:\n",
    "    import oequant as oq\n",
    "    print(\"oequant package already installed.\")\n",
    "except ImportError:\n",
    "    print(\"oequant package not found. Installing from GitHub...\")\n",
    "    import subprocess\n",
    "    import sys\n",
    "    # Replace with your actual GitHub URL\n",
    "    github_url = \"git+https://github.com/oeqautn/oequant.git\" \n",
    "    try:\n",
    "        subprocess.check_call([sys.executable, \"-m\", \"pip\", \"install\", github_url])\n",
    "        print(\"Installation successful!\")\n",
    "        import oequant as oq # Try importing again\n",
    "    except Exception as e:\n",
    "        print(f\"ERROR: Failed to install oequant from GitHub: {e}\")\n",
    "        print(\"Please install the package manually.\")\n",
    "        # Optional: exit or raise if installation is critical\n",
    "        # sys.exit(1) \n",
    "# --- End Installation Check --- #"
   ]
  },
  {
   "cell_type": "code",
   "execution_count": null,
   "id": "46614fcd",
   "metadata": {},
   "outputs": [],
   "source": [
    "# Cell 1: Imports and Data Loading\n",
    "import pandas as pd\n",
    "import pandas_ta as ta\n",
    "import numpy as np\n",
    "from bokeh.io import output_notebook\n",
    "output_notebook() # this is needed for interactive plots\n",
    "\n",
    "\n",
    "# Load sample data\n",
    "ticker = \"QQQ\"\n",
    "start_date = \"2010-01-01\"\n",
    "end_date = \"2025-05-01\" \n",
    "\n",
    "print(f\"Fetching data for {ticker} from {start_date} to {end_date}...\")\n",
    "data = oq.get_data(ticker, start=start_date, end=end_date)\n",
    "print(\"Data loaded successfully:\")\n",
    "print(data.tail())"
   ]
  },
  {
   "cell_type": "code",
   "execution_count": null,
   "id": "a950e777",
   "metadata": {
    "lines_to_next_cell": 2
   },
   "outputs": [],
   "source": [
    "# Cell 2: Indicators calculation and inputs\n",
    "print(\"\\nCalculating features...\")\n",
    "# Calculate RSI_3\n",
    "data.ta.rsi(length=3, append=True, col_names=('rsi_3',)) # Appends 'RSI_3'\n",
    "\n",
    "# Calculate exit signal: close > high.shift()\n",
    "data['exit_signal'] = data['close'] > data['high'].shift(1)\n",
    "\n",
    "# Entry signal: rsi_3 < 20 (will be passed as an expression)\n",
    "entry_expression = \"rsi_3 < 20\"\n",
    "\n",
    "print(\"Inputs calculated:\")\n",
    "print(data[['close', 'high', 'rsi_3', 'exit_signal']].tail())"
   ]
  },
  {
   "cell_type": "code",
   "execution_count": null,
   "id": "c0b34c18",
   "metadata": {},
   "outputs": [],
   "source": [
    "# Cell 3: Backtesting\n",
    "print(\"\\nRunning backtest...\")\n",
    "# Define backtest parameters\n",
    "initial_capital = 100_000\n",
    "# Entry: rsi_3 < 20\n",
    "# Exit: our 'exit_signal' column\n",
    "\n",
    "print(f\"Data shape after NaN drop: {data.shape}\")\n",
    "print(f\"Entry expression: {entry_expression}\")\n",
    "print(f\"Exit column name: 'exit_signal'\")\n",
    "\n",
    "\n",
    "results = oq.backtest(\n",
    "    data=data,\n",
    "    entry_column=entry_expression, # \"rsi_3 < 20\"\n",
    "    exit_column='exit_signal',     # Pre-calculated boolean column\n",
    "    capital=initial_capital,\n",
    "    fee_frac=0.001 # Example fee\n",
    ")\n",
    "print(\"Backtest completed.\")"
   ]
  },
  {
   "cell_type": "code",
   "execution_count": null,
   "id": "6a8a4ca5",
   "metadata": {
    "lines_to_next_cell": 0
   },
   "outputs": [],
   "source": [
    "# Cell 4: Reporting\n",
    "print(\"\\nGenerating report...\")\n",
    "results.report()\n",
    "\n",
    "print(\"\\nScript finished.\") "
   ]
  },
  {
   "cell_type": "code",
   "execution_count": null,
   "id": "19b95c05",
   "metadata": {},
   "outputs": [],
   "source": []
  }
 ],
 "metadata": {
  "jupytext": {
   "cell_metadata_filter": "-all",
   "main_language": "python",
   "notebook_metadata_filter": "-all"
  }
 },
 "nbformat": 4,
 "nbformat_minor": 5
}
